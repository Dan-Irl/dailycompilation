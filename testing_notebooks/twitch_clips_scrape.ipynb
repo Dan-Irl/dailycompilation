{
 "cells": [
  {
   "cell_type": "code",
   "execution_count": 10,
   "metadata": {},
   "outputs": [],
   "source": [
    "from bs4 import BeautifulSoup\n",
    "from selenium import webdriver\n",
    "from selenium.webdriver.chrome.options import Options\n",
    "import time\n",
    "from dataclasses import dataclass\n",
    "import datetime\n",
    "import numpy as np\n"
   ]
  },
  {
   "cell_type": "code",
   "execution_count": 11,
   "metadata": {},
   "outputs": [],
   "source": []
  },
  {
   "cell_type": "code",
   "execution_count": 18,
   "metadata": {},
   "outputs": [
    {
     "ename": "KeyboardInterrupt",
     "evalue": "",
     "output_type": "error",
     "traceback": [
      "\u001b[0;31m---------------------------------------------------------------------------\u001b[0m",
      "\u001b[0;31mKeyboardInterrupt\u001b[0m                         Traceback (most recent call last)",
      "Cell \u001b[0;32mIn[18], line 39\u001b[0m\n\u001b[1;32m     36\u001b[0m     \u001b[38;5;28;01mreturn\u001b[39;00m content\n\u001b[1;32m     38\u001b[0m url \u001b[38;5;241m=\u001b[39m \u001b[38;5;124m\"\u001b[39m\u001b[38;5;124mhttps://twitchtracker.com/clips\u001b[39m\u001b[38;5;124m\"\u001b[39m\n\u001b[0;32m---> 39\u001b[0m content \u001b[38;5;241m=\u001b[39m \u001b[43mbypass_cloudflare_with_selenium\u001b[49m\u001b[43m(\u001b[49m\u001b[43murl\u001b[49m\u001b[43m)\u001b[49m\n\u001b[1;32m     41\u001b[0m \u001b[38;5;28;01mwith\u001b[39;00m \u001b[38;5;28mopen\u001b[39m(\n\u001b[1;32m     42\u001b[0m                 \u001b[38;5;124m\"\u001b[39m\u001b[38;5;124mpage_source_test.html\u001b[39m\u001b[38;5;124m\"\u001b[39m, \u001b[38;5;124m\"\u001b[39m\u001b[38;5;124mw\u001b[39m\u001b[38;5;124m\"\u001b[39m, encoding\u001b[38;5;241m=\u001b[39m\u001b[38;5;124m\"\u001b[39m\u001b[38;5;124mutf-8\u001b[39m\u001b[38;5;124m\"\u001b[39m\n\u001b[1;32m     43\u001b[0m             ) \u001b[38;5;28;01mas\u001b[39;00m file:\n\u001b[1;32m     44\u001b[0m                 file\u001b[38;5;241m.\u001b[39mwrite(content)\n",
      "Cell \u001b[0;32mIn[18], line 28\u001b[0m, in \u001b[0;36mbypass_cloudflare_with_selenium\u001b[0;34m(url)\u001b[0m\n\u001b[1;32m     25\u001b[0m driver\u001b[38;5;241m.\u001b[39mget(url)\n\u001b[1;32m     27\u001b[0m \u001b[38;5;66;03m# Wait for Cloudflare's anti-bot page (adjust the time as needed)\u001b[39;00m\n\u001b[0;32m---> 28\u001b[0m \u001b[43mtime\u001b[49m\u001b[38;5;241;43m.\u001b[39;49m\u001b[43msleep\u001b[49m\u001b[43m(\u001b[49m\u001b[38;5;241;43m30\u001b[39;49m\u001b[43m)\u001b[49m\n\u001b[1;32m     30\u001b[0m \u001b[38;5;66;03m# Now you can scrape the page or interact with it as needed\u001b[39;00m\n\u001b[1;32m     31\u001b[0m content \u001b[38;5;241m=\u001b[39m driver\u001b[38;5;241m.\u001b[39mpage_source\n",
      "\u001b[0;31mKeyboardInterrupt\u001b[0m: "
     ]
    }
   ],
   "source": [
    "with open(\"/home/dan/repos/dailycompilation/dailycompilation/data/proxylist.txt\",\"r\") as file:\n",
    "    proxylist = file.read()\n",
    "    \n",
    "    # The text file contains rows of proxies in the format: ip:port. create a list of proxies where each row is a proxy\n",
    "    proxylist = proxylist.split(\"\\n\")\n",
    "    \n",
    "# select random proxy from list\n",
    "selected_proxy = np.random.choice(proxylist)\n",
    "\n",
    "# Set up Chrome options\n",
    "chrome_options = Options()\n",
    "# chrome_options.add_argument(\"--headless\")  # Ensure GUI is off\n",
    "chrome_options.add_argument(\"--no-sandbox\")\n",
    "chrome_options.add_argument(\"--disable-dev-shm-usage\")\n",
    "chrome_options.add_argument(\"--enable-javascript\")\n",
    "chrome_options.add_argument('user-agent=Mozilla/5.0 (Windows NT 10.0; Win64; x64) AppleWebKit/537.36 (KHTML, like Gecko) Chrome/119.0.6045.159 Safari/537.36')\n",
    "chrome_options.add_argument(\"/home/dan/repos/dailycompilation/dailycompilation/Default\")\n",
    "chrome_options.add_argument(f'--proxy-server={selected_proxy}')\n",
    "\n",
    "def bypass_cloudflare_with_selenium(url):\n",
    "    # Initialize the WebDriver (example using Chrome)\n",
    "    driver = webdriver.Chrome(options=chrome_options)\n",
    "\n",
    "    # Go to the URL\n",
    "    driver.get(url)\n",
    "\n",
    "    # Wait for Cloudflare's anti-bot page (adjust the time as needed)\n",
    "    time.sleep(30)\n",
    "\n",
    "    # Now you can scrape the page or interact with it as needed\n",
    "    content = driver.page_source\n",
    "\n",
    "    # Close the WebDriver\n",
    "    driver.quit()\n",
    "\n",
    "    return content\n",
    "\n",
    "url = \"https://twitchtracker.com/clips\"\n",
    "content = bypass_cloudflare_with_selenium(url)\n",
    "\n",
    "with open(\n",
    "                \"page_source_test.html\", \"w\", encoding=\"utf-8\"\n",
    "            ) as file:\n",
    "                file.write(content)\n"
   ]
  },
  {
   "cell_type": "code",
   "execution_count": 39,
   "metadata": {},
   "outputs": [
    {
     "data": {
      "text/plain": [
       "['\"Twitch Highlights\"',\n",
       " '\"Twitch Streamers\"',\n",
       " '\"Gaming Moments\"',\n",
       " '\"Funny Twitch Moments\"',\n",
       " '\"Epic Twitch Gameplay\"',\n",
       " '\"Twitch Fails\"',\n",
       " '\"Best of Twitch\"',\n",
       " '\"Live Streaming\"',\n",
       " '\"Online Gaming\"',\n",
       " '\"Twitch Reactions\"',\n",
       " '\"Game Streaming Highlights\"',\n",
       " '\"Twitch Top Moments\"',\n",
       " '\"Esports Highlights\"',\n",
       " '\"Streamer Funny Moments\"',\n",
       " '\"Twitch Gameplays\"',\n",
       " '\"Popular Twitch Clips\"',\n",
       " '\"Twitch Compilation\"',\n",
       " '\"Gaming Community\"',\n",
       " '\"Twitch Stream Highlights\"',\n",
       " '\"Viral Twitch Clips\"']"
      ]
     },
     "execution_count": 39,
     "metadata": {},
     "output_type": "execute_result"
    }
   ],
   "source": [
    "test = '\"Twitch Highlights\",\"Twitch Streamers\",\"Gaming Moments\",\"Funny Twitch Moments\",\"Epic Twitch Gameplay\",\"Twitch Fails\",\"Best of Twitch\",\"Live Streaming\",\"Online Gaming\",\"Twitch Reactions\",\"Game Streaming Highlights\",\"Twitch Top Moments\",\"Esports Highlights\",\"Streamer Funny Moments\",\"Twitch Gameplays\",\"Popular Twitch Clips\",\"Twitch Compilation\",\"Gaming Community\",\"Twitch Stream Highlights\",\"Viral Twitch Clips\"'\n",
    "test.split(\",\")\n",
    "\n"
   ]
  }
 ],
 "metadata": {
  "kernelspec": {
   "display_name": "dailycompilation",
   "language": "python",
   "name": "python3"
  },
  "language_info": {
   "codemirror_mode": {
    "name": "ipython",
    "version": 3
   },
   "file_extension": ".py",
   "mimetype": "text/x-python",
   "name": "python",
   "nbconvert_exporter": "python",
   "pygments_lexer": "ipython3",
   "version": "3.12.0"
  }
 },
 "nbformat": 4,
 "nbformat_minor": 2
}
