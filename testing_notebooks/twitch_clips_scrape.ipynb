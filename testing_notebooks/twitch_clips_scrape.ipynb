{
 "cells": [
  {
   "cell_type": "code",
   "execution_count": 1,
   "metadata": {},
   "outputs": [],
   "source": [
    "from bs4 import BeautifulSoup\n",
    "from selenium import webdriver\n",
    "from selenium.webdriver.chrome.options import Options\n",
    "import time\n",
    "from dataclasses import dataclass\n",
    "import datetime\n"
   ]
  },
  {
   "cell_type": "code",
   "execution_count": 6,
   "metadata": {},
   "outputs": [],
   "source": [
    "\n",
    "\n",
    "# Set up Chrome options\n",
    "chrome_options = Options()\n",
    "# chrome_options.add_argument(\"--headless\")  # Ensure GUI is off\n",
    "chrome_options.add_argument(\"--no-sandbox\")\n",
    "chrome_options.add_argument(\"--disable-dev-shm-usage\")\n",
    "chrome_options.add_argument(\"--enable-javascript\")\n",
    "chrome_options.add_argument('user-agent=Mozilla/5.0 (Windows NT 10.0; Win64; x64) AppleWebKit/537.36 (KHTML, like Gecko) Chrome/119.0.6045.159 Safari/537.36')\n",
    "chrome_options.add_argument(\"/home/dan/repos/dailycompilation/dailycompilation/Default\")\n",
    "\n",
    "def bypass_cloudflare_with_selenium(url):\n",
    "    # Initialize the WebDriver (example using Chrome)\n",
    "    driver = webdriver.Chrome(options=chrome_options)\n",
    "\n",
    "    # Go to the URL\n",
    "    driver.get(url)\n",
    "\n",
    "    # Wait for Cloudflare's anti-bot page (adjust the time as needed)\n",
    "    time.sleep(30)\n",
    "\n",
    "    # Now you can scrape the page or interact with it as needed\n",
    "    content = driver.page_source\n",
    "\n",
    "    # Close the WebDriver\n",
    "    driver.quit()\n",
    "\n",
    "    return content\n",
    "\n",
    "url = \"https://twitchtracker.com/clips\"\n",
    "content = bypass_cloudflare_with_selenium(url)\n",
    "\n",
    "with open(\n",
    "                \"page_source_test.html\", \"w\", encoding=\"utf-8\"\n",
    "            ) as file:\n",
    "                file.write(content)\n"
   ]
  }
 ],
 "metadata": {
  "kernelspec": {
   "display_name": "dailycompilation",
   "language": "python",
   "name": "python3"
  },
  "language_info": {
   "codemirror_mode": {
    "name": "ipython",
    "version": 3
   },
   "file_extension": ".py",
   "mimetype": "text/x-python",
   "name": "python",
   "nbconvert_exporter": "python",
   "pygments_lexer": "ipython3",
   "version": "3.12.0"
  }
 },
 "nbformat": 4,
 "nbformat_minor": 2
}
